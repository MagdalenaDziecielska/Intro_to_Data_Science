{
 "cells": [
  {
   "cell_type": "markdown",
   "metadata": {},
   "source": [
    "This notebook contains part of \"Intro to Data Science\" course from Udemy. This part is about processing data from dataset weather_underground.csv which is available here: https://s3.amazonaws.com/content.udacity-data.com/courses/ud359/weather_underground.csv"
   ]
  },
  {
   "cell_type": "code",
   "execution_count": null,
   "metadata": {
    "collapsed": true
   },
   "outputs": [],
   "source": [
    "import pandas\n",
    "import pandasql\n",
    "\n",
    "# count all rainy days\n",
    "\n",
    "def num_rainy_days(filename):\n",
    "\n",
    "    weather_data = pandas.read_csv(filename)\n",
    "\n",
    "    q = \"\"\" select count(*) from weather_data where cast(rain as integer) = 1\"\"\"\n",
    "    \n",
    "    rainy_days = pandasql.sqldf(q.lower(), locals())\n",
    "    return rainy_days\n"
   ]
  },
  {
   "cell_type": "code",
   "execution_count": null,
   "metadata": {
    "collapsed": true
   },
   "outputs": [],
   "source": [
    "# max temperature group by foggy and non-foggy days\n",
    "\n",
    "def max_temp_aggregate_by_fog(filename):\n",
    "\n",
    "    weather_data = pandas.read_csv(filename)\n",
    "\n",
    "    q = \"\"\"select fog, maxtempi from weather_data group by fog\"\"\"\n",
    "    \n",
    "    foggy_days = pandasql.sqldf(q.lower(), locals())\n",
    "    return foggy_days\n"
   ]
  },
  {
   "cell_type": "code",
   "execution_count": null,
   "metadata": {
    "collapsed": true
   },
   "outputs": [],
   "source": [
    "# count average temperature on weekend\n",
    "def avg_weekend_temperature(filename):\n",
    "\n",
    "    weather_data = pandas.read_csv(filename)\n",
    "\n",
    "    q = \"\"\"\n",
    "    select avg(meantempi) from weather_data where cast(strftime('%w', date) as integer)=0 or cast (strftime('%w', date) as integer) = 6;\n",
    "    \"\"\"\n",
    "    \n",
    "    mean_temp_weekends = pandasql.sqldf(q.lower(), locals())\n",
    "    return mean_temp_weekends"
   ]
  },
  {
   "cell_type": "markdown",
   "metadata": {},
   "source": [
    "The next part is about more statistical issues on dataset available here: https://s3.amazonaws.com/content.udacity-data.com/courses/ud359/turnstile_data_master_with_weather.csv"
   ]
  },
  {
   "cell_type": "code",
   "execution_count": null,
   "metadata": {
    "collapsed": true
   },
   "outputs": [],
   "source": [
    "import numpy as np\n",
    "import pandas\n",
    "import matplotlib.pyplot as plt\n",
    "\n",
    "# histogram on given dataset \n",
    "def entries_histogram(turnstile_weather):\n",
    "    \n",
    "    plt.figure()\n",
    "    turnstile_weather[turnstile_weather['rain'] == True]['ENTRIESn_hourly'].hist(bins=20, alpha = 0.5) # your code here to plot a historgram for hourly entries when it is raining\n",
    "    turnstile_weather[turnstile_weather['rain'] == False]['ENTRIESn_hourly'].hist(bins=20, alpha = 0.5) # your code here to plot a historgram for hourly entries when it is not raining\n",
    "    return plt\n"
   ]
  },
  {
   "cell_type": "code",
   "execution_count": null,
   "metadata": {
    "collapsed": true
   },
   "outputs": [],
   "source": [
    "import numpy as np\n",
    "import scipy\n",
    "import scipy.stats\n",
    "import pandas\n",
    "\n",
    "'''\n",
    "    mean values with rainy and non-rainy days and the Mann-Whitney U-statistic and p-value \n",
    "    comparing the number of entries with rain and the number of entries without rain\n",
    "'''\n",
    "def mann_whitney_plus_means(turnstile_weather):\n",
    "    \n",
    "    with_rain_mean = turnstile_weather[turnstile_weather['rain'] == True]['ENTRIESn_hourly'].mean()\n",
    "    without_rain_mean = turnstile_weather[turnstile_weather['rain'] == False]['ENTRIESn_hourly'].mean()\n",
    "    \n",
    "    U, p = scipy.stats.mannwhitneyu(turnstile_weather[turnstile_weather['rain'] == True]['ENTRIESn_hourly'], turnstile_weather[turnstile_weather['rain'] == False]['ENTRIESn_hourly'])\n",
    "    \n",
    "    return with_rain_mean, without_rain_mean, U, p \n"
   ]
  },
  {
   "cell_type": "code",
   "execution_count": null,
   "metadata": {
    "collapsed": true
   },
   "outputs": [],
   "source": [
    "import numpy as np\n",
    "import scipy\n",
    "import matplotlib.pyplot as plt\n",
    "import sys\n",
    "\n",
    "# r-squared statistic value\n",
    "def compute_r_squared(data, predictions):\n",
    "    \n",
    "    y_mean = np.mean(data)\n",
    "    \n",
    "    lic = 0\n",
    "    mian = 0\n",
    "    \n",
    "    lic = ((data - predictions) * (data - predictions)).sum()\n",
    "    mian = ((data - y_mean) * (data - y_mean)).sum()\n",
    "        \n",
    "    r_squared = 1 - lic/mian\n",
    "    \n",
    "    return r_squared"
   ]
  }
 ],
 "metadata": {
  "kernelspec": {
   "display_name": "Python 3",
   "language": "python",
   "name": "python3"
  },
  "language_info": {
   "codemirror_mode": {
    "name": "ipython",
    "version": 3
   },
   "file_extension": ".py",
   "mimetype": "text/x-python",
   "name": "python",
   "nbconvert_exporter": "python",
   "pygments_lexer": "ipython3",
   "version": "3.5.2"
  }
 },
 "nbformat": 4,
 "nbformat_minor": 0
}
